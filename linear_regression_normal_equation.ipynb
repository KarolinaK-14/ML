{
  "nbformat": 4,
  "nbformat_minor": 0,
  "metadata": {
    "colab": {
      "provenance": [],
      "include_colab_link": true
    },
    "kernelspec": {
      "name": "python3",
      "display_name": "Python 3"
    }
  },
  "cells": [
    {
      "cell_type": "markdown",
      "metadata": {
        "id": "view-in-github",
        "colab_type": "text"
      },
      "source": [
        "<a href=\"https://colab.research.google.com/github/KarolinaK-14/ML/blob/main/linear_regression_normal_equation.ipynb\" target=\"_parent\"><img src=\"https://colab.research.google.com/assets/colab-badge.svg\" alt=\"Open In Colab\"/></a>"
      ]
    },
    {
      "cell_type": "markdown",
      "metadata": {
        "id": "foUlrTWjZpzE"
      },
      "source": [
        "### scikit-learn\n",
        "Library page: [https://scikit-learn.org](https://scikit-learn.org)\n",
        "\n",
        "Documentation/User Guide: [https://scikit-learn.org/stable/user_guide.html](https://scikit-learn.org/stable/user_guide.html)\n",
        "\n",
        "The core library for machine learning in Python.\n",
        "\n",
        "To install the library, use the command below:\n",
        "```\n",
        "!pip install scikit-learn\n",
        "```\n",
        "To update the library to the latest version, use the command below:\n",
        "```\n",
        "!pip install --upgrade scikit-learn\n",
        "```\n",
        "\n",
        "### Table of contents:\n",
        "1. [Importing libraries](#0)\n",
        "2. [Preparing data](#1)\n",
        "3. [Normal equation](#2)\n",
        "4. [Linear regression using scikit-learn library](#3)\n",
        "\n",
        "\n"
      ]
    },
    {
      "cell_type": "markdown",
      "metadata": {
        "id": "i4UpSSDvZz2v"
      },
      "source": [
        "### <a name='0'></a> Importing libraries"
      ]
    },
    {
      "cell_type": "code",
      "metadata": {
        "id": "VQ0ieU0UdN5D"
      },
      "source": [
        "# import numpy as np\n",
        "import numpy as np"
      ],
      "execution_count": 1,
      "outputs": []
    },
    {
      "cell_type": "markdown",
      "metadata": {
        "id": "K6AR6Vofa2DK"
      },
      "source": [
        "### <a name='1'></a> Preparing data"
      ]
    },
    {
      "cell_type": "code",
      "metadata": {
        "id": "UDbWnF8rdceb",
        "colab": {
          "base_uri": "https://localhost:8080/"
        },
        "outputId": "c913479b-9a9c-48ed-dd76-c73e107c82c5"
      },
      "source": [
        "# X1 = np.array([1, 2, 3, 4, 5, 6])\n",
        "# Y = np.array([3000, 3250, 3500, 3750, 4000, 4250])\n",
        "# m = len(X1)\n",
        "\n",
        "# print(f'Lata pracy: {X1}')\n",
        "# print(f'Wynagrodzenie: {Y}')\n",
        "# print(f'Liczba próbek: {m}')\n",
        "\n",
        "X1 = np.array([1, 2, 3, 4, 5, 6])\n",
        "Y = np.array([3000, 3250, 3500, 3750, 4000, 4250])\n",
        "m = len(X1)\n",
        "\n",
        "print(f'Years of experience: {X1}')\n",
        "print(f'Salary: {Y}')\n",
        "print(f'Number of samples: {m}')"
      ],
      "execution_count": 2,
      "outputs": [
        {
          "output_type": "stream",
          "name": "stdout",
          "text": [
            "Years of experience: [1 2 3 4 5 6]\n",
            "Salary: [3000 3250 3500 3750 4000 4250]\n",
            "Number of samples: 6\n"
          ]
        }
      ]
    },
    {
      "cell_type": "code",
      "metadata": {
        "id": "qCl-HE9pZDp7",
        "colab": {
          "base_uri": "https://localhost:8080/"
        },
        "outputId": "44d274fd-ec4b-4db9-bf8a-1125393bcf01"
      },
      "source": [
        "# X1 = X1.reshape(m, 1)\n",
        "# print(X1)\n",
        "# print(X1.shape)\n",
        "print(X1.shape)\n",
        "X1 = X1.reshape(m, 1)\n",
        "print(X1.shape)\n",
        "print(X1)"
      ],
      "execution_count": 3,
      "outputs": [
        {
          "output_type": "stream",
          "name": "stdout",
          "text": [
            "(6,)\n",
            "(6, 1)\n",
            "[[1]\n",
            " [2]\n",
            " [3]\n",
            " [4]\n",
            " [5]\n",
            " [6]]\n"
          ]
        }
      ]
    },
    {
      "cell_type": "code",
      "metadata": {
        "id": "1J5bEXehZPVO",
        "colab": {
          "base_uri": "https://localhost:8080/"
        },
        "outputId": "f6706b0d-125b-439e-9835-a254f116b178"
      },
      "source": [
        "# bias = np.ones((m, 1))\n",
        "# print(bias)\n",
        "# print(bias.shape)\n",
        "bias = np.ones((m, 1))\n",
        "print(bias.shape)\n",
        "print(bias)"
      ],
      "execution_count": 4,
      "outputs": [
        {
          "output_type": "stream",
          "name": "stdout",
          "text": [
            "(6, 1)\n",
            "[[1.]\n",
            " [1.]\n",
            " [1.]\n",
            " [1.]\n",
            " [1.]\n",
            " [1.]]\n"
          ]
        }
      ]
    },
    {
      "cell_type": "code",
      "metadata": {
        "id": "25475QsYZznI",
        "colab": {
          "base_uri": "https://localhost:8080/"
        },
        "outputId": "336b85fd-f38d-4169-f9f4-b60af1761a50"
      },
      "source": [
        "# X = np.append(bias, X1, axis=1)\n",
        "# print(X)\n",
        "# print(X.shape)\n",
        "X = np.append(bias, X1, axis=1)\n",
        "print(X.shape)\n",
        "print(X)"
      ],
      "execution_count": 7,
      "outputs": [
        {
          "output_type": "stream",
          "name": "stdout",
          "text": [
            "(6, 2)\n",
            "[[1. 1.]\n",
            " [1. 2.]\n",
            " [1. 3.]\n",
            " [1. 4.]\n",
            " [1. 5.]\n",
            " [1. 6.]]\n"
          ]
        }
      ]
    },
    {
      "cell_type": "markdown",
      "metadata": {
        "id": "UbjsT92Xd3z1"
      },
      "source": [
        "### <a name='2'></a> Normal equation\n",
        "\n",
        "\n",
        "Linear regression in $R^2$:  \n",
        "$$Y = w_0 + w_1X_1$$\n",
        "$$Y = W^TX$$\n",
        "where: $$W = \\left[\\begin{matrix}w_0\\\\w_1\\end{matrix}\\right]$$ $$X = \\left[\\begin{matrix}1\\\\X_1\\end{matrix}\\right]$$ hence $$W^T = \\left[\\begin{matrix}w_0&w_1\\end{matrix}\\right]$$\n",
        "$$Y = W^TX = \\left[\\begin{matrix}w_0&w_1\\end{matrix}\\right] \\cdot \\left[\\begin{matrix}1\\\\X_1\\end{matrix}\\right] = w_0 + w_1X_1$$\n",
        "\n",
        "Normal equation - the equation which allows to calculate the minimum of the loss function (if it exists)\n",
        "$$W = (X^TX)^{-1}(X^TY)$$"
      ]
    },
    {
      "cell_type": "code",
      "metadata": {
        "id": "Y9VWdotwoJ74",
        "colab": {
          "base_uri": "https://localhost:8080/",
          "height": 51
        },
        "outputId": "d07a27fe-76c4-4e97-b8ab-6dead318f6ef"
      },
      "source": [
        "# np.dot(X.T, X)\n",
        "np.dot(X.T, X)"
      ],
      "execution_count": null,
      "outputs": [
        {
          "output_type": "execute_result",
          "data": {
            "text/plain": [
              "array([[ 6., 21.],\n",
              "       [21., 91.]])"
            ]
          },
          "metadata": {
            "tags": []
          },
          "execution_count": 6
        }
      ]
    },
    {
      "cell_type": "code",
      "source": [
        "L = np.linalg.inv(np.dot(X.T, X))"
      ],
      "metadata": {
        "id": "sE5B96YDSAU6"
      },
      "execution_count": 8,
      "outputs": []
    },
    {
      "cell_type": "code",
      "source": [
        "P = np.dot(X.T, Y)"
      ],
      "metadata": {
        "id": "mVHEs7LgR7SN"
      },
      "execution_count": 9,
      "outputs": []
    },
    {
      "cell_type": "code",
      "metadata": {
        "id": "L0hewPqOae06",
        "colab": {
          "base_uri": "https://localhost:8080/"
        },
        "outputId": "c6b6cdb0-d679-4402-dc26-8d915b1e929a"
      },
      "source": [
        "np.dot(L, P)"
      ],
      "execution_count": 10,
      "outputs": [
        {
          "output_type": "execute_result",
          "data": {
            "text/plain": [
              "array([2750.,  250.])"
            ]
          },
          "metadata": {},
          "execution_count": 10
        }
      ]
    },
    {
      "cell_type": "markdown",
      "metadata": {
        "id": "kQt2Fsp4oPbO"
      },
      "source": [
        "Final form of the model:$$Y = 2750 + 250X_1$$"
      ]
    },
    {
      "cell_type": "markdown",
      "metadata": {
        "id": "DGcZ1G0CbN6D"
      },
      "source": [
        "### <a name='3'></a> Linear regression using sickit-learn library"
      ]
    },
    {
      "cell_type": "code",
      "metadata": {
        "id": "jDjBjL7noVGj",
        "colab": {
          "base_uri": "https://localhost:8080/"
        },
        "outputId": "48237dcb-1b78-45b7-8159-b019c2a6966b"
      },
      "source": [
        "# from sklearn.linear_model import LinearRegression\n",
        "\n",
        "# regression = LinearRegression()\n",
        "# regression.fit(X1, Y)\n",
        "\n",
        "# print(regression.intercept_)\n",
        "# print(regression.coef_[0])\n",
        "\n",
        "from sklearn.linear_model import LinearRegression\n",
        "\n",
        "regression = LinearRegression()\n",
        "regression.fit(X1, Y)\n",
        "\n",
        "print(regression.intercept_)\n",
        "print(regression.coef_[0])"
      ],
      "execution_count": 13,
      "outputs": [
        {
          "output_type": "stream",
          "name": "stdout",
          "text": [
            "2750.0\n",
            "250.0\n"
          ]
        }
      ]
    }
  ]
}